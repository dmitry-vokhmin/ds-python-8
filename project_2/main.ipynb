{
 "cells": [
  {
   "cell_type": "markdown",
   "id": "42289889-bd57-434e-9637-d3e354756316",
   "metadata": {
    "id": "42289889-bd57-434e-9637-d3e354756316"
   },
   "source": [
    "<center> <img src = https://raw.githubusercontent.com/AndreyRysistov/DatasetsForPandas/main/hh%20label.jpg alt=\"drawing\" style=\"width:400px;\">"
   ]
  },
  {
   "cell_type": "markdown",
   "id": "829cb75b-f14e-4ba8-9195-7ba929a7d656",
   "metadata": {
    "tags": [],
    "id": "829cb75b-f14e-4ba8-9195-7ba929a7d656"
   },
   "source": [
    "# <center> Проект: Анализ вакансий из HeadHunter\n",
    "   "
   ]
  },
  {
   "cell_type": "code",
   "id": "dccfde33-2452-43fb-a8a5-5c6ebc02a71d",
   "metadata": {
    "id": "dccfde33-2452-43fb-a8a5-5c6ebc02a71d",
    "ExecuteTime": {
     "end_time": "2025-02-05T16:13:54.351472Z",
     "start_time": "2025-02-05T16:13:53.975937Z"
    }
   },
   "source": [
    "import pandas as pd\n",
    "from sqlalchemy import create_engine\n",
    "from dotenv import load_dotenv\n",
    "import os"
   ],
   "outputs": [],
   "execution_count": 1
  },
  {
   "cell_type": "code",
   "source": [
    "load_dotenv()\n",
    "\n",
    "DBNAME = os.getenv('DBNAME')\n",
    "USER = os.getenv('DBUSER')\n",
    "PASSWORD = os.getenv('PASSWORD')\n",
    "HOST = os.getenv('HOST')\n",
    "PORT = os.getenv('PORT')"
   ],
   "metadata": {
    "id": "oVKH4ehvf8Ay",
    "ExecuteTime": {
     "end_time": "2025-02-05T16:13:55.114006Z",
     "start_time": "2025-02-05T16:13:55.110908Z"
    }
   },
   "id": "oVKH4ehvf8Ay",
   "outputs": [],
   "execution_count": 2
  },
  {
   "cell_type": "code",
   "source": "engine = create_engine(f\"postgresql+psycopg2://{USER}:{PASSWORD}@{HOST}:{PORT}/{DBNAME}\")",
   "metadata": {
    "id": "G4X_q8KBf7SF",
    "ExecuteTime": {
     "end_time": "2025-02-05T16:13:57.020284Z",
     "start_time": "2025-02-05T16:13:56.978541Z"
    }
   },
   "id": "G4X_q8KBf7SF",
   "outputs": [],
   "execution_count": 3
  },
  {
   "cell_type": "markdown",
   "id": "0dc6476b-7a00-44f1-ac93-6e3baed33a29",
   "metadata": {
    "id": "0dc6476b-7a00-44f1-ac93-6e3baed33a29"
   },
   "source": [
    "# Юнит 3. Предварительный анализ данных"
   ]
  },
  {
   "cell_type": "markdown",
   "id": "889782b6-8d1c-410e-8920-e57f27917c64",
   "metadata": {
    "id": "889782b6-8d1c-410e-8920-e57f27917c64"
   },
   "source": [
    "1. Напишите запрос, который посчитает количество вакансий в нашей базе (вакансии находятся в таблице vacancies). "
   ]
  },
  {
   "cell_type": "code",
   "id": "bc39e68e-ed02-4ee2-9235-7258a2f867a8",
   "metadata": {
    "id": "bc39e68e-ed02-4ee2-9235-7258a2f867a8",
    "ExecuteTime": {
     "end_time": "2025-02-05T16:13:59.040289Z",
     "start_time": "2025-02-05T16:13:59.038165Z"
    }
   },
   "source": [
    "# текст запроса\n",
    "query_3_1 = f'''\n",
    "select count(*)\n",
    "from vacancies;\n",
    "'''"
   ],
   "outputs": [],
   "execution_count": 4
  },
  {
   "cell_type": "code",
   "source": [
    "# результат запроса\n",
    "df = pd.read_sql_query(query_3_1, engine)\n",
    "print('Количество вакансий:', df['count'].values[0])"
   ],
   "metadata": {
    "id": "7mAwtsk4hEHY",
    "ExecuteTime": {
     "end_time": "2025-02-05T16:14:02.956082Z",
     "start_time": "2025-02-05T16:14:00.237079Z"
    }
   },
   "id": "7mAwtsk4hEHY",
   "outputs": [
    {
     "name": "stdout",
     "output_type": "stream",
     "text": [
      "Количество вакансий: 49197\n"
     ]
    }
   ],
   "execution_count": 5
  },
  {
   "cell_type": "markdown",
   "id": "b583485d-1f9e-494e-ada4-80ffff7c53d6",
   "metadata": {
    "id": "b583485d-1f9e-494e-ada4-80ffff7c53d6"
   },
   "source": [
    "2. Напишите запрос, который посчитает количество работодателей (таблица employers). "
   ]
  },
  {
   "cell_type": "code",
   "id": "5408c52c-3407-4a63-b25b-1aafa2322d28",
   "metadata": {
    "id": "5408c52c-3407-4a63-b25b-1aafa2322d28",
    "ExecuteTime": {
     "end_time": "2025-02-04T14:18:53.357150Z",
     "start_time": "2025-02-04T14:18:53.355624Z"
    }
   },
   "source": [
    "# текст запроса\n",
    "query_3_2 = f'''\n",
    "select count(*)\n",
    "from employers;\n",
    "'''"
   ],
   "outputs": [],
   "execution_count": 63
  },
  {
   "cell_type": "code",
   "source": [
    "# результат запроса\n",
    "df = pd.read_sql_query(query_3_2, engine)\n",
    "print('Количество работодателей:', df['count'].values[0])"
   ],
   "metadata": {
    "id": "jVL4eshKhdqc",
    "ExecuteTime": {
     "end_time": "2025-02-04T14:18:53.883650Z",
     "start_time": "2025-02-04T14:18:53.439457Z"
    }
   },
   "id": "jVL4eshKhdqc",
   "outputs": [
    {
     "name": "stdout",
     "output_type": "stream",
     "text": [
      "Количество работодателей: 23501\n"
     ]
    }
   ],
   "execution_count": 64
  },
  {
   "cell_type": "markdown",
   "id": "a2bfff1f-c975-4bf6-84be-2185d79dcb76",
   "metadata": {
    "id": "a2bfff1f-c975-4bf6-84be-2185d79dcb76"
   },
   "source": [
    "3. Посчитате с помощью запроса количество регионов (таблица areas)."
   ]
  },
  {
   "cell_type": "code",
   "source": [
    "# текст запроса\n",
    "query_3_3 = f'''\n",
    "select count(*)\n",
    "from areas;\n",
    "'''"
   ],
   "metadata": {
    "id": "1m8QJwBYhey6",
    "ExecuteTime": {
     "end_time": "2025-02-04T14:18:53.949827Z",
     "start_time": "2025-02-04T14:18:53.947589Z"
    }
   },
   "id": "1m8QJwBYhey6",
   "outputs": [],
   "execution_count": 65
  },
  {
   "cell_type": "code",
   "source": [
    "# результат запроса\n",
    "df = pd.read_sql_query(query_3_3, engine)\n",
    "print('Количество регионов:', df['count'].values[0])"
   ],
   "metadata": {
    "id": "EZsn9tlfhe7f",
    "ExecuteTime": {
     "end_time": "2025-02-04T14:18:54.404097Z",
     "start_time": "2025-02-04T14:18:53.955807Z"
    }
   },
   "id": "EZsn9tlfhe7f",
   "outputs": [
    {
     "name": "stdout",
     "output_type": "stream",
     "text": [
      "Количество регионов: 1362\n"
     ]
    }
   ],
   "execution_count": 66
  },
  {
   "cell_type": "markdown",
   "id": "41bb59f3-53cc-4a67-a5bc-bedf573955e4",
   "metadata": {
    "id": "41bb59f3-53cc-4a67-a5bc-bedf573955e4"
   },
   "source": [
    "4. Посчитате с помощью запроса количество сфер деятельности в базе (таблица industries)."
   ]
  },
  {
   "cell_type": "code",
   "id": "d286cf4c-707b-4cd2-9190-7ab3587d04a1",
   "metadata": {
    "id": "d286cf4c-707b-4cd2-9190-7ab3587d04a1",
    "ExecuteTime": {
     "end_time": "2025-02-04T14:18:54.505001Z",
     "start_time": "2025-02-04T14:18:54.503257Z"
    }
   },
   "source": [
    "# текст запроса\n",
    "query_3_4 = f'''\n",
    "select count(*)\n",
    "from industries;\n",
    "'''"
   ],
   "outputs": [],
   "execution_count": 67
  },
  {
   "cell_type": "code",
   "source": [
    "# результат запроса\n",
    "df = pd.read_sql_query(query_3_4, engine)\n",
    "print('Количество сфер деятельности:', df['count'].values[0])"
   ],
   "metadata": {
    "id": "JYAaoZ4qhfzW",
    "ExecuteTime": {
     "end_time": "2025-02-04T14:18:54.955296Z",
     "start_time": "2025-02-04T14:18:54.512365Z"
    }
   },
   "id": "JYAaoZ4qhfzW",
   "outputs": [
    {
     "name": "stdout",
     "output_type": "stream",
     "text": [
      "Количество сфер деятельности: 294\n"
     ]
    }
   ],
   "execution_count": 68
  },
  {
   "metadata": {},
   "cell_type": "markdown",
   "source": [
    "### Выводы по предварительному анализу данных\n",
    "1. В базе данных:\n",
    "    - **Вакансий** — в 2 раза больше, чем работодателей.\n",
    "    - Представлено большое количество **регионов**.\n",
    "    - Отражено разнообразие **сфер деятельности**.\n",
    "\n",
    "2. Вакансии, вероятно, охватывают всю Россию.\n",
    "3. База данных готова для дальнейшего детального анализа.\n"
   ],
   "id": "c0f2d597df94e3f"
  },
  {
   "cell_type": "markdown",
   "id": "8d62a9f3-f64e-4fe7-bdac-c4dffa16155e",
   "metadata": {
    "id": "8d62a9f3-f64e-4fe7-bdac-c4dffa16155e"
   },
   "source": [
    "# Юнит 4. Детальный анализ вакансий"
   ]
  },
  {
   "cell_type": "markdown",
   "id": "93053d3d-b284-481a-9cf7-012d7014c0e0",
   "metadata": {
    "id": "93053d3d-b284-481a-9cf7-012d7014c0e0"
   },
   "source": [
    "1. Напишите запрос, который позволит узнать, сколько (cnt) вакансий в каждом регионе (area).\n",
    "Отсортируйте по количеству вакансий в порядке убывания."
   ]
  },
  {
   "cell_type": "code",
   "id": "3f069da6-fdc9-4ae7-b514-fafe2675efd3",
   "metadata": {
    "id": "3f069da6-fdc9-4ae7-b514-fafe2675efd3",
    "ExecuteTime": {
     "end_time": "2025-02-04T14:18:55.053714Z",
     "start_time": "2025-02-04T14:18:55.051581Z"
    }
   },
   "source": [
    "# текст запроса\n",
    "query_4_1 = '''\n",
    "select a.name, count(v.id) as cnt\n",
    "from vacancies v\n",
    "         join areas a on v.area_id = a.id\n",
    "group by a.name\n",
    "order by cnt desc\n",
    "limit 5;\n",
    "'''"
   ],
   "outputs": [],
   "execution_count": 69
  },
  {
   "cell_type": "code",
   "source": [
    "# результат запроса\n",
    "df = pd.read_sql_query(query_4_1, engine)\n",
    "print('Количество вакансий в каждом регионе:\\n', df)"
   ],
   "metadata": {
    "id": "P7QL86hrjhRJ",
    "ExecuteTime": {
     "end_time": "2025-02-04T14:18:55.524967Z",
     "start_time": "2025-02-04T14:18:55.060643Z"
    }
   },
   "id": "P7QL86hrjhRJ",
   "outputs": [
    {
     "name": "stdout",
     "output_type": "stream",
     "text": [
      "Количество вакансий в каждом регионе:\n",
      "               name   cnt\n",
      "0           Москва  5333\n",
      "1  Санкт-Петербург  2851\n",
      "2            Минск  2112\n",
      "3      Новосибирск  2006\n",
      "4           Алматы  1892\n"
     ]
    }
   ],
   "execution_count": 70
  },
  {
   "cell_type": "markdown",
   "id": "4266f0b6-1646-492a-88b4-2f6a46502135",
   "metadata": {
    "id": "4266f0b6-1646-492a-88b4-2f6a46502135"
   },
   "source": [
    "2. Напишите запрос, чтобы определить у какого количества вакансий заполнено хотя бы одно из двух полей с зарплатой."
   ]
  },
  {
   "cell_type": "code",
   "id": "0c44b350-72eb-4d65-8b54-a1fc449ba9fd",
   "metadata": {
    "id": "0c44b350-72eb-4d65-8b54-a1fc449ba9fd",
    "ExecuteTime": {
     "end_time": "2025-02-04T14:18:55.622321Z",
     "start_time": "2025-02-04T14:18:55.620618Z"
    }
   },
   "source": [
    "# текст запроса\n",
    "query_4_2 = '''\n",
    "select count(*)\n",
    "from vacancies\n",
    "where salary_from is not null\n",
    "   or salary_to is not null;\n",
    "'''"
   ],
   "outputs": [],
   "execution_count": 71
  },
  {
   "cell_type": "code",
   "source": [
    "# результат запроса\n",
    "df = pd.read_sql_query(query_4_2, engine)\n",
    "print('Количество вакансий заполнено хотя бы одно из двух полей с зарплатой:', df['count'].values[0])"
   ],
   "metadata": {
    "id": "rhvwaMDkoWTi",
    "ExecuteTime": {
     "end_time": "2025-02-04T14:18:56.083408Z",
     "start_time": "2025-02-04T14:18:55.629189Z"
    }
   },
   "id": "rhvwaMDkoWTi",
   "outputs": [
    {
     "name": "stdout",
     "output_type": "stream",
     "text": [
      "Количество вакансий заполнено хотя бы одно из двух полей с зарплатой: 24073\n"
     ]
    }
   ],
   "execution_count": 72
  },
  {
   "cell_type": "markdown",
   "id": "635c4d5d-f323-4c66-b428-50a088120aa0",
   "metadata": {
    "id": "635c4d5d-f323-4c66-b428-50a088120aa0"
   },
   "source": [
    "3. Найдите средние значения для нижней и верхней границы зарплатной вилки. Округлите значения до целого."
   ]
  },
  {
   "cell_type": "code",
   "id": "603cdbe4-0ec3-4106-8eaf-c73fcdd29165",
   "metadata": {
    "id": "603cdbe4-0ec3-4106-8eaf-c73fcdd29165",
    "ExecuteTime": {
     "end_time": "2025-02-04T14:18:56.189770Z",
     "start_time": "2025-02-04T14:18:56.188075Z"
    }
   },
   "source": [
    "# текст запроса\n",
    "query_4_3 = '''\n",
    "select round(avg(salary_from)) as avg_min,\n",
    "       round(avg(salary_to))   as avg_max\n",
    "from vacancies;\n",
    "'''"
   ],
   "outputs": [],
   "execution_count": 73
  },
  {
   "cell_type": "code",
   "source": [
    "# результат запроса\n",
    "df = pd.read_sql_query(query_4_3, engine)\n",
    "print('Средние значения для нижней и верхней границы зарплатной вилки:\\n', df)"
   ],
   "metadata": {
    "id": "pswpAb66ovZZ",
    "ExecuteTime": {
     "end_time": "2025-02-04T14:18:56.695122Z",
     "start_time": "2025-02-04T14:18:56.236377Z"
    }
   },
   "id": "pswpAb66ovZZ",
   "outputs": [
    {
     "name": "stdout",
     "output_type": "stream",
     "text": [
      "Средние значения для нижней и верхней границы зарплатной вилки:\n",
      "    avg_min   avg_max\n",
      "0  71065.0  110537.0\n"
     ]
    }
   ],
   "execution_count": 74
  },
  {
   "cell_type": "markdown",
   "id": "f3fdaec9-5fd3-4260-9cf5-1d7406b628a5",
   "metadata": {
    "id": "f3fdaec9-5fd3-4260-9cf5-1d7406b628a5"
   },
   "source": [
    "4. Напишите запрос, который выведет количество вакансий для каждого сочетания типа рабочего графика (schedule) и типа трудоустройства (employment), используемого в вакансиях. Результат отсортируйте по убыванию количества.\n"
   ]
  },
  {
   "cell_type": "code",
   "id": "1ea710ec-871b-431e-9462-c7d0fd87011b",
   "metadata": {
    "id": "1ea710ec-871b-431e-9462-c7d0fd87011b",
    "ExecuteTime": {
     "end_time": "2025-02-04T14:18:56.722027Z",
     "start_time": "2025-02-04T14:18:56.719199Z"
    }
   },
   "source": [
    "# текст запроса\n",
    "query_4_4 = '''\n",
    "select schedule, employment, count(*) as count\n",
    "from vacancies\n",
    "group by schedule, employment\n",
    "order by count desc;\n",
    "'''"
   ],
   "outputs": [],
   "execution_count": 75
  },
  {
   "cell_type": "code",
   "source": [
    "# результат запроса\n",
    "df = pd.read_sql_query(query_4_4, engine)\n",
    "print('Пара находится на втором месте по популярности:\\n', df.iloc[1])"
   ],
   "metadata": {
    "id": "lGUVqavdo4JQ",
    "ExecuteTime": {
     "end_time": "2025-02-04T14:18:57.286894Z",
     "start_time": "2025-02-04T14:18:56.810791Z"
    }
   },
   "id": "lGUVqavdo4JQ",
   "outputs": [
    {
     "name": "stdout",
     "output_type": "stream",
     "text": [
      "Пара находится на втором месте по популярности:\n",
      " schedule      Удаленная работа\n",
      "employment    Полная занятость\n",
      "count                     7802\n",
      "Name: 1, dtype: object\n"
     ]
    }
   ],
   "execution_count": 76
  },
  {
   "cell_type": "markdown",
   "id": "0136ffee-0ead-4a6b-b608-61d1c753a438",
   "metadata": {
    "id": "0136ffee-0ead-4a6b-b608-61d1c753a438"
   },
   "source": [
    "5. Напишите запрос, выводящий значения поля Требуемый опыт работы (experience) в порядке возрастания количества вакансий, в которых указан данный вариант опыта. "
   ]
  },
  {
   "cell_type": "code",
   "id": "5b3a8e79-f7ab-4008-b767-12aea3a205ea",
   "metadata": {
    "id": "5b3a8e79-f7ab-4008-b767-12aea3a205ea",
    "ExecuteTime": {
     "end_time": "2025-02-04T14:18:57.315831Z",
     "start_time": "2025-02-04T14:18:57.312547Z"
    }
   },
   "source": [
    "# текст запроса\n",
    "query_4_5 = '''\n",
    "select experience, count(*) as count\n",
    "from vacancies\n",
    "group by experience\n",
    "order by count;\n",
    "'''"
   ],
   "outputs": [],
   "execution_count": 77
  },
  {
   "cell_type": "code",
   "source": [
    "# результат запроса\n",
    "df = pd.read_sql_query(query_4_5, engine)\n",
    "print('Порядок опыта:\\n', df)"
   ],
   "metadata": {
    "id": "3Is64Y-hpDpq",
    "ExecuteTime": {
     "end_time": "2025-02-04T14:18:57.827963Z",
     "start_time": "2025-02-04T14:18:57.367084Z"
    }
   },
   "id": "3Is64Y-hpDpq",
   "outputs": [
    {
     "name": "stdout",
     "output_type": "stream",
     "text": [
      "Порядок опыта:\n",
      "            experience  count\n",
      "0         Более 6 лет   1337\n",
      "1           Нет опыта   7197\n",
      "2       От 3 до 6 лет  14511\n",
      "3  От 1 года до 3 лет  26152\n"
     ]
    }
   ],
   "execution_count": 78
  },
  {
   "cell_type": "markdown",
   "source": [
    "***"
   ],
   "metadata": {
    "id": "oq2b7n1QpIka"
   },
   "id": "oq2b7n1QpIka"
  },
  {
   "metadata": {},
   "cell_type": "markdown",
   "source": [
    "### Выводы по детальному анализу вакансий\n",
    "1. **Распределение вакансий**: Большинство вакансий сосредоточено в крупных экономических центрах.\n",
    "2. **Заполненность данных**: У значительной части вакансий указаны данные о зарплате.\n",
    "3. **Средние значения зарплат**: Средние границы зарплат варьируются в разумных пределах.\n",
    "4. **Типы занятости и графики работы**: Полный рабочий день и постоянная занятость — самые популярные форматы.\n",
    "5. **Требуемый опыт работы**: Вакансии чаще ориентированы на кандидатов с небольшим или отсутствующим опытом.\n",
    "\n"
   ],
   "id": "5ab54762a634791c"
  },
  {
   "cell_type": "markdown",
   "id": "7ea20ab6-04a7-40a0-adec-443a0e5a42c3",
   "metadata": {
    "id": "7ea20ab6-04a7-40a0-adec-443a0e5a42c3"
   },
   "source": [
    "# Юнит 5. Анализ работодателей"
   ]
  },
  {
   "cell_type": "markdown",
   "id": "968aed80-74ef-4ffb-b5bf-c65b84e9caea",
   "metadata": {
    "id": "968aed80-74ef-4ffb-b5bf-c65b84e9caea"
   },
   "source": [
    "1. Напишите запрос, который позволит узнать, какие работодатели находятся на первом и пятом месте по количеству вакансий."
   ]
  },
  {
   "cell_type": "code",
   "id": "f2d62796-d400-4ec1-a675-88112739a50e",
   "metadata": {
    "id": "f2d62796-d400-4ec1-a675-88112739a50e",
    "ExecuteTime": {
     "end_time": "2025-02-04T14:18:57.892548Z",
     "start_time": "2025-02-04T14:18:57.890629Z"
    }
   },
   "source": [
    "# текст запроса\n",
    "query_5_1 = '''\n",
    "select e.name, count(v.id) as count\n",
    "from vacancies v\n",
    "join employers e on e.id = v.employer_id\n",
    "group by e.name\n",
    "order by count desc\n",
    "limit 5;\n",
    "'''"
   ],
   "outputs": [],
   "execution_count": 79
  },
  {
   "cell_type": "code",
   "source": [
    "# результат запроса\n",
    "df = pd.read_sql_query(query_5_1, engine)\n",
    "print('Работодатели находятся на первом и пятом месте по количеству вакансий:\\n', '1', df.iloc[0]['name'], '\\n', '5',\n",
    "      df.iloc[4]['name'])"
   ],
   "metadata": {
    "id": "64tOMkAxqkQk",
    "ExecuteTime": {
     "end_time": "2025-02-04T14:18:58.419502Z",
     "start_time": "2025-02-04T14:18:57.934493Z"
    }
   },
   "id": "64tOMkAxqkQk",
   "outputs": [
    {
     "name": "stdout",
     "output_type": "stream",
     "text": [
      "Работодатели находятся на первом и пятом месте по количеству вакансий:\n",
      " 1 Яндекс \n",
      " 5 Газпром нефть\n"
     ]
    }
   ],
   "execution_count": 80
  },
  {
   "cell_type": "markdown",
   "id": "68377cfc-b378-43dc-ab7d-1195abf2c515",
   "metadata": {
    "id": "68377cfc-b378-43dc-ab7d-1195abf2c515"
   },
   "source": [
    "2. Напишите запрос, который для каждого региона выведет количество работодателей и вакансий в нём.\n",
    "Среди регионов, в которых нет вакансий, найдите тот, в котором наибольшее количество работодателей.\n"
   ]
  },
  {
   "cell_type": "code",
   "id": "dd7df27a-e3e8-412e-a21a-5d389b71e891",
   "metadata": {
    "id": "dd7df27a-e3e8-412e-a21a-5d389b71e891",
    "ExecuteTime": {
     "end_time": "2025-02-04T14:18:58.525989Z",
     "start_time": "2025-02-04T14:18:58.524018Z"
    }
   },
   "source": [
    "# текст запроса\n",
    "query_5_2 = '''\n",
    "select a.name,\n",
    "       count(e.id) as emp_count,\n",
    "       count(v.id) as vac_count\n",
    "from areas a\n",
    "         left join employers e on e.area = a.id\n",
    "         left join vacancies v on a.id = v.area_id\n",
    "group by a.name\n",
    "order by vac_count, emp_count desc\n",
    "limit 1;\n",
    "'''"
   ],
   "outputs": [],
   "execution_count": 81
  },
  {
   "cell_type": "code",
   "source": [
    "# результат запроса\n",
    "df = pd.read_sql_query(query_5_2, engine)\n",
    "print('Регион без вакансий с наибольшим количеством работодателей:', df['name'].values[0])"
   ],
   "metadata": {
    "id": "x1ikWbydrbf6",
    "ExecuteTime": {
     "end_time": "2025-02-04T14:19:14.622433Z",
     "start_time": "2025-02-04T14:18:58.532392Z"
    }
   },
   "id": "x1ikWbydrbf6",
   "outputs": [
    {
     "name": "stdout",
     "output_type": "stream",
     "text": [
      "Регион без вакансий с наибольшим количеством работодателей: Россия\n"
     ]
    }
   ],
   "execution_count": 82
  },
  {
   "cell_type": "markdown",
   "id": "f2fe0acb-ab1a-4e15-9326-2560e22d73c1",
   "metadata": {
    "id": "f2fe0acb-ab1a-4e15-9326-2560e22d73c1"
   },
   "source": [
    "3. Для каждого работодателя посчитайте количество регионов, в которых он публикует свои вакансии. Отсортируйте результат по убыванию количества.\n"
   ]
  },
  {
   "cell_type": "code",
   "id": "6271f8ad-bd2e-4196-ae4a-5b39c4c1010e",
   "metadata": {
    "id": "6271f8ad-bd2e-4196-ae4a-5b39c4c1010e",
    "ExecuteTime": {
     "end_time": "2025-02-04T14:19:14.732402Z",
     "start_time": "2025-02-04T14:19:14.730177Z"
    }
   },
   "source": [
    "# текст запроса\n",
    "query_5_3 = '''\n",
    "select e.name,\n",
    "       count(distinct v.area_id) as area_count\n",
    "from employers e\n",
    "         join areas a on e.area = a.id\n",
    "         join vacancies v on e.id = v.employer_id\n",
    "group by e.name\n",
    "order by area_count desc\n",
    "limit 1;\n",
    "'''"
   ],
   "outputs": [],
   "execution_count": 83
  },
  {
   "cell_type": "code",
   "source": [
    "# результат запроса\n",
    "df = pd.read_sql_query(query_5_3, engine)\n",
    "print('Максимальное значение:', df['area_count'].values[0])"
   ],
   "metadata": {
    "id": "1EIvX3HasH4F",
    "ExecuteTime": {
     "end_time": "2025-02-04T14:19:15.364180Z",
     "start_time": "2025-02-04T14:19:14.777306Z"
    }
   },
   "id": "1EIvX3HasH4F",
   "outputs": [
    {
     "name": "stdout",
     "output_type": "stream",
     "text": [
      "Максимальное значение: 181\n"
     ]
    }
   ],
   "execution_count": 84
  },
  {
   "cell_type": "markdown",
   "id": "eab2206d-d95b-468b-8e5f-34381abf0ce7",
   "metadata": {
    "id": "eab2206d-d95b-468b-8e5f-34381abf0ce7"
   },
   "source": [
    "4. Напишите запрос для подсчёта количества работодателей, у которых не указана сфера деятельности. "
   ]
  },
  {
   "cell_type": "code",
   "id": "80defb23-bfb1-4a18-8be6-bf36aa7165d5",
   "metadata": {
    "id": "80defb23-bfb1-4a18-8be6-bf36aa7165d5",
    "ExecuteTime": {
     "end_time": "2025-02-04T14:19:15.429184Z",
     "start_time": "2025-02-04T14:19:15.427354Z"
    }
   },
   "source": [
    "# текст запроса\n",
    "query_5_4 = '''\n",
    "select count(*)\n",
    "from employers\n",
    "         left join employers_industries ei on employers.id = ei.employer_id\n",
    "where ei.industry_id is null;\n",
    "'''"
   ],
   "outputs": [],
   "execution_count": 85
  },
  {
   "cell_type": "code",
   "source": [
    "# результат запроса\n",
    "df = pd.read_sql_query(query_5_4, engine)\n",
    "print('Работодатели у которых не указана сфера деятельности:', df['count'].values[0])"
   ],
   "metadata": {
    "id": "Dp_yCx6ysQSu",
    "ExecuteTime": {
     "end_time": "2025-02-04T14:19:15.892126Z",
     "start_time": "2025-02-04T14:19:15.435590Z"
    }
   },
   "id": "Dp_yCx6ysQSu",
   "outputs": [
    {
     "name": "stdout",
     "output_type": "stream",
     "text": [
      "Работодатели у которых не указана сфера деятельности: 8419\n"
     ]
    }
   ],
   "execution_count": 86
  },
  {
   "cell_type": "markdown",
   "id": "0112af31-f6b0-4e3b-82ab-71296e752e5e",
   "metadata": {
    "id": "0112af31-f6b0-4e3b-82ab-71296e752e5e"
   },
   "source": [
    "5. Напишите запрос, чтобы узнать название компании, находящейся на третьем месте в алфавитном списке (по названию) компаний, у которых указано четыре сферы деятельности. "
   ]
  },
  {
   "cell_type": "code",
   "id": "973b0cfc-a972-470a-8b4a-68744ef220c4",
   "metadata": {
    "id": "973b0cfc-a972-470a-8b4a-68744ef220c4",
    "ExecuteTime": {
     "end_time": "2025-02-04T14:19:15.956701Z",
     "start_time": "2025-02-04T14:19:15.954614Z"
    }
   },
   "source": [
    "# текст запроса\n",
    "query_5_5 = '''\n",
    "select name\n",
    "from employers\n",
    "         join employers_industries ei on employers.id = ei.employer_id\n",
    "group by name\n",
    "having count(ei.industry_id) = 4\n",
    "order by name\n",
    "offset 2 limit 1;\n",
    "'''"
   ],
   "outputs": [],
   "execution_count": 87
  },
  {
   "cell_type": "code",
   "source": [
    "# результат запроса\n",
    "df = pd.read_sql_query(query_5_5, engine)\n",
    "print(\n",
    "    'Компании, находящейся на третьем месте в алфавитном списке (по названию) компаний, у которой указано четыре сферы деятельности:',\n",
    "    df['name'].values[0])"
   ],
   "metadata": {
    "id": "xsPtpp8EsaED",
    "ExecuteTime": {
     "end_time": "2025-02-04T14:19:16.465954Z",
     "start_time": "2025-02-04T14:19:15.998997Z"
    }
   },
   "id": "xsPtpp8EsaED",
   "outputs": [
    {
     "name": "stdout",
     "output_type": "stream",
     "text": [
      "Компании, находящейся на третьем месте в алфавитном списке (по названию) компаний, у которой указано четыре сферы деятельности: 2ГИС\n"
     ]
    }
   ],
   "execution_count": 88
  },
  {
   "cell_type": "markdown",
   "id": "3bfcfdaf-755d-4d2b-8ed8-326201dc07ab",
   "metadata": {
    "id": "3bfcfdaf-755d-4d2b-8ed8-326201dc07ab"
   },
   "source": [
    "6. С помощью запроса выясните, у какого количества работодателей в качестве сферы деятельности указана Разработка программного обеспечения.\n"
   ]
  },
  {
   "cell_type": "code",
   "id": "ad3f270f-2991-47eb-929b-e8f88a55b0d1",
   "metadata": {
    "id": "ad3f270f-2991-47eb-929b-e8f88a55b0d1",
    "ExecuteTime": {
     "end_time": "2025-02-04T14:19:16.573213Z",
     "start_time": "2025-02-04T14:19:16.571478Z"
    }
   },
   "source": [
    "# текст запроса\n",
    "query_5_6 = '''\n",
    "select count(e.id)\n",
    "from employers e\n",
    "         join employers_industries ei on e.id = ei.employer_id\n",
    "         join industries i on i.id = ei.industry_id\n",
    "where i.name = 'Разработка программного обеспечения';\n",
    "'''"
   ],
   "outputs": [],
   "execution_count": 89
  },
  {
   "cell_type": "code",
   "source": [
    "# результат запроса\n",
    "df = pd.read_sql_query(query_5_6, engine)\n",
    "print('Количества работодателей у которых в качестве сферы деятельности указана «Разработка программного обеспечения»:',\n",
    "      df['count'].values[0])"
   ],
   "metadata": {
    "id": "H72qxWM0shPR",
    "ExecuteTime": {
     "end_time": "2025-02-04T14:19:17.026304Z",
     "start_time": "2025-02-04T14:19:16.579383Z"
    }
   },
   "id": "H72qxWM0shPR",
   "outputs": [
    {
     "name": "stdout",
     "output_type": "stream",
     "text": [
      "Количества работодателей у которых в качестве сферы деятельности указана «Разработка программного обеспечения»: 3553\n"
     ]
    }
   ],
   "execution_count": 90
  },
  {
   "cell_type": "markdown",
   "id": "7b02bb86-0546-40fb-94a4-242f050a5c57",
   "metadata": {
    "id": "7b02bb86-0546-40fb-94a4-242f050a5c57"
   },
   "source": [
    "7. Для компании «Яндекс» выведите список регионов-миллионников, в которых представлены вакансии компании, вместе с количеством вакансий в этих регионах. Также добавьте строку Total с общим количеством вакансий компании. Результат отсортируйте по возрастанию количества.\n",
    "\n",
    "Список городов-милионников надо взять [отсюда](https://ru.wikipedia.org/wiki/%D0%93%D0%BE%D1%80%D0%BE%D0%B4%D0%B0-%D0%BC%D0%B8%D0%BB%D0%BB%D0%B8%D0%BE%D0%BD%D0%B5%D1%80%D1%8B_%D0%A0%D0%BE%D1%81%D1%81%D0%B8%D0%B8). \n",
    "\n",
    "Если возникнут трудности с этим задание посмотрите материалы модуля  PYTHON-17. Как получать данные из веб-источников и API. "
   ]
  },
  {
   "cell_type": "code",
   "source": [
    "# код для получения списка городов-милионников\n",
    "import requests\n",
    "from bs4 import BeautifulSoup\n",
    "\n",
    "url = \"https://ru.wikipedia.org/wiki/%D0%93%D0%BE%D1%80%D0%BE%D0%B4%D0%B0-%D0%BC%D0%B8%D0%BB%D0%BB%D0%B8%D0%BE%D0%BD%D0%B5%D1%80%D1%8B_%D0%A0%D0%BE%D1%81%D1%81%D0%B8%D0%B8\"\n",
    "\n",
    "response = requests.get(url)\n",
    "response.encoding = \"utf-8\"\n",
    "html = response.text\n",
    "\n",
    "soup = BeautifulSoup(html, \"html.parser\")\n",
    "\n",
    "table = soup.find(\"table\", {\"class\": \"standard\"})\n",
    "\n",
    "rows = table.find_all(\"tr\")\n",
    "\n",
    "cities = []\n",
    "for row in rows[1:]:\n",
    "    cols = row.find_all(\"td\")\n",
    "    if len(cols) > 0:\n",
    "        city = cols[1].text.strip()\n",
    "        cities.append(city)\n",
    "\n",
    "sql_cities = str(tuple(cities))"
   ],
   "metadata": {
    "id": "ZdfrL6gIs1Pn",
    "ExecuteTime": {
     "end_time": "2025-02-04T14:19:17.402836Z",
     "start_time": "2025-02-04T14:19:17.081392Z"
    }
   },
   "id": "ZdfrL6gIs1Pn",
   "outputs": [],
   "execution_count": 91
  },
  {
   "cell_type": "code",
   "id": "5a0e32a4-e68a-4365-8a39-2fe24c542c36",
   "metadata": {
    "id": "5a0e32a4-e68a-4365-8a39-2fe24c542c36",
    "ExecuteTime": {
     "end_time": "2025-02-04T14:19:17.446267Z",
     "start_time": "2025-02-04T14:19:17.444095Z"
    }
   },
   "source": [
    "# текст запроса\n",
    "query_5_7 = f'''\n",
    "select a.name      as name,\n",
    "       count(v.id) as cnt\n",
    "from vacancies v\n",
    "         join areas a on a.id = v.area_id\n",
    "         join employers e on v.employer_id = e.id\n",
    "where e.name = 'Яндекс'\n",
    "  and a.name in {sql_cities}\n",
    "group by a.name\n",
    "union\n",
    "select 'Total',\n",
    "       count(v.id)\n",
    "from vacancies v\n",
    "         join areas a on a.id = v.area_id\n",
    "         join employers e on v.employer_id = e.id\n",
    "where e.name = 'Яндекс'\n",
    "  and a.name in {sql_cities}\n",
    "order by cnt\n",
    "'''"
   ],
   "outputs": [],
   "execution_count": 92
  },
  {
   "cell_type": "code",
   "source": [
    "# результат запроса\n",
    "df = pd.read_sql_query(query_5_7, engine)\n",
    "print('Количества вакансий по регионам для компании Яндекс:\\n', df)"
   ],
   "metadata": {
    "id": "ttPhiO1rsvPq",
    "ExecuteTime": {
     "end_time": "2025-02-04T14:19:18.022753Z",
     "start_time": "2025-02-04T14:19:17.486975Z"
    }
   },
   "id": "ttPhiO1rsvPq",
   "outputs": [
    {
     "name": "stdout",
     "output_type": "stream",
     "text": [
      "Количества вакансий по регионам для компании Яндекс:\n",
      "                name  cnt\n",
      "0              Омск   21\n",
      "1         Челябинск   22\n",
      "2        Красноярск   23\n",
      "3         Волгоград   24\n",
      "4             Пермь   25\n",
      "5            Казань   25\n",
      "6    Ростов-на-Дону   25\n",
      "7               Уфа   26\n",
      "8            Самара   26\n",
      "9         Краснодар   30\n",
      "10          Воронеж   32\n",
      "11      Новосибирск   35\n",
      "12  Нижний Новгород   36\n",
      "13     Екатеринбург   39\n",
      "14  Санкт-Петербург   42\n",
      "15           Москва   54\n",
      "16            Total  485\n"
     ]
    }
   ],
   "execution_count": 93
  },
  {
   "cell_type": "markdown",
   "id": "04966e40-3bc3-4dc8-9ba2-e80580ce3abc",
   "metadata": {
    "id": "04966e40-3bc3-4dc8-9ba2-e80580ce3abc"
   },
   "source": [
    "***"
   ]
  },
  {
   "metadata": {},
   "cell_type": "markdown",
   "source": [
    "### Выводы по анализу работодателей\n",
    "Компании с наибольшим количеством вакансий сконцентрированы в крупных экономических центрах. IT-сфера занимает лидирующие позиции, особенно разработка ПО. Некоторые регионы имеют много работодателей, но без вакансий, что говорит о дисбалансе рынка труда."
   ],
   "id": "22e58d7fbe61c98d"
  },
  {
   "cell_type": "markdown",
   "id": "b1ef156a-efcb-49ce-bb23-90763e7f35b2",
   "metadata": {
    "tags": [],
    "id": "b1ef156a-efcb-49ce-bb23-90763e7f35b2"
   },
   "source": [
    "# Юнит 6. Предметный анализ"
   ]
  },
  {
   "cell_type": "markdown",
   "id": "b9cd50a0-992d-4988-8463-2b2b1c4629b4",
   "metadata": {
    "id": "b9cd50a0-992d-4988-8463-2b2b1c4629b4"
   },
   "source": [
    "1. Сколько вакансий имеет отношение к данным?\n",
    "\n",
    "Считаем, что вакансия имеет отношение к данным, если в её названии содержатся слова 'data' или 'данн'.\n",
    "\n",
    "*Подсказка: Обратите внимание, что названия вакансий могут быть написаны в любом регистре.* \n"
   ]
  },
  {
   "cell_type": "code",
   "id": "54ab0e50-c0f1-47cc-a54b-bc5c8bc363f9",
   "metadata": {
    "id": "54ab0e50-c0f1-47cc-a54b-bc5c8bc363f9",
    "ExecuteTime": {
     "end_time": "2025-02-04T14:26:11.029519Z",
     "start_time": "2025-02-04T14:26:11.027694Z"
    }
   },
   "source": [
    "# текст запроса\n",
    "query_6_1 = '''\n",
    "SELECT count(*)\n",
    "FROM vacancies\n",
    "WHERE LOWER(name) LIKE '%data%' OR LOWER(name) LIKE '%данн%';\n",
    "'''"
   ],
   "outputs": [],
   "execution_count": 111
  },
  {
   "cell_type": "code",
   "source": [
    "# результат запроса\n",
    "connection = engine.raw_connection()\n",
    "df = pd.read_sql_query(query_6_1, connection)\n",
    "connection.close()\n",
    "print('Вакансии имеющие отношение к данным:', df['count'].values[0])"
   ],
   "metadata": {
    "id": "9F1meAqsuUjd",
    "ExecuteTime": {
     "end_time": "2025-02-04T14:26:14.122521Z",
     "start_time": "2025-02-04T14:26:13.577957Z"
    }
   },
   "id": "9F1meAqsuUjd",
   "outputs": [
    {
     "name": "stderr",
     "output_type": "stream",
     "text": [
      "/var/folders/6k/1096gq_54_dgk0_cjz4762g40000gn/T/ipykernel_54159/2947098479.py:3: UserWarning: pandas only supports SQLAlchemy connectable (engine/connection) or database string URI or sqlite3 DBAPI2 connection. Other DBAPI2 objects are not tested. Please consider using SQLAlchemy.\n",
      "  df = pd.read_sql_query(query_6_1, connection)\n"
     ]
    },
    {
     "name": "stdout",
     "output_type": "stream",
     "text": [
      "Вакансии имеющие отношение к данным: 1771\n"
     ]
    }
   ],
   "execution_count": 112
  },
  {
   "cell_type": "markdown",
   "id": "4dea20cb-a36b-474a-a0b9-e08e8e3857a5",
   "metadata": {
    "id": "4dea20cb-a36b-474a-a0b9-e08e8e3857a5"
   },
   "source": [
    "2. Сколько есть подходящих вакансий для начинающего дата-сайентиста? \n",
    "Будем считать вакансиями для дата-сайентистов такие, в названии которых есть хотя бы одно из следующих сочетаний:\n",
    "* 'data scientist'\n",
    "* 'data science'\n",
    "* 'исследователь данных'\n",
    "* 'ML' (здесь не нужно брать вакансии по HTML)\n",
    "* 'machine learning'\n",
    "* 'машинн%обучен%'\n",
    "\n",
    "** В следующих заданиях мы продолжим работать с вакансиями по этому условию.*\n",
    "\n",
    "Считаем вакансиями для специалистов уровня Junior следующие:\n",
    "* в названии есть слово 'junior' *или*\n",
    "* требуемый опыт — Нет опыта *или*\n",
    "* тип трудоустройства — Стажировка.\n",
    " "
   ]
  },
  {
   "cell_type": "code",
   "id": "9c61b3c0-bb66-46c9-ae1e-81d3f5752b4a",
   "metadata": {
    "id": "9c61b3c0-bb66-46c9-ae1e-81d3f5752b4a",
    "ExecuteTime": {
     "end_time": "2025-02-04T15:44:06.757746Z",
     "start_time": "2025-02-04T15:44:06.755204Z"
    }
   },
   "source": [
    "# текст запроса\n",
    "ds_filter = '''\n",
    "(name ILIKE '%data scientist%'\n",
    "    OR name ILIKE '%data science%'\n",
    "    OR name ILIKE '%исследователь данных%'\n",
    "    OR name LIKE '%ML%' AND name NOT ILIKE '%HTML%'\n",
    "    OR name ILIKE '%machine learning%'\n",
    "    OR name ILIKE '%машинн%обучен%')\n",
    "'''\n",
    "query_6_2 = f'''\n",
    "select count(*)\n",
    "from vacancies\n",
    "where {ds_filter}\n",
    "  and (\n",
    "    name ilike '%junior%'\n",
    "        or experience = 'Нет опыта'\n",
    "        or employment = 'Стажировка'\n",
    "    );\n",
    "'''"
   ],
   "outputs": [],
   "execution_count": 125
  },
  {
   "cell_type": "code",
   "source": [
    "# результат запроса\n",
    "connection = engine.raw_connection()\n",
    "df = pd.read_sql_query(query_6_2, connection)\n",
    "connection.close()\n",
    "print('Подходящие вакансии для начинающих дата-сайентистов:', df['count'].values[0])"
   ],
   "metadata": {
    "id": "ZNM-LLYuu1dj",
    "ExecuteTime": {
     "end_time": "2025-02-04T15:44:10.837877Z",
     "start_time": "2025-02-04T15:44:10.343906Z"
    }
   },
   "id": "ZNM-LLYuu1dj",
   "outputs": [
    {
     "name": "stderr",
     "output_type": "stream",
     "text": [
      "/var/folders/6k/1096gq_54_dgk0_cjz4762g40000gn/T/ipykernel_54159/2296427000.py:3: UserWarning: pandas only supports SQLAlchemy connectable (engine/connection) or database string URI or sqlite3 DBAPI2 connection. Other DBAPI2 objects are not tested. Please consider using SQLAlchemy.\n",
      "  df = pd.read_sql_query(query_6_2, connection)\n"
     ]
    },
    {
     "name": "stdout",
     "output_type": "stream",
     "text": [
      "Подходящие вакансии для начинающих дата-сайентистов: 51\n"
     ]
    }
   ],
   "execution_count": 126
  },
  {
   "cell_type": "markdown",
   "id": "eedceb80-c5ca-480e-b27a-278dfb8b4438",
   "metadata": {
    "id": "eedceb80-c5ca-480e-b27a-278dfb8b4438"
   },
   "source": [
    "3. Сколько есть вакансий для DS, в которых в качестве ключевого навыка указан SQL или postgres?\n",
    "\n",
    "** Критерии для отнесения вакансии к DS указаны в предыдущем задании.*"
   ]
  },
  {
   "cell_type": "code",
   "id": "69621713-0cc5-4f1b-a1d7-bb144fa6148c",
   "metadata": {
    "id": "69621713-0cc5-4f1b-a1d7-bb144fa6148c",
    "ExecuteTime": {
     "end_time": "2025-02-04T15:54:57.830913Z",
     "start_time": "2025-02-04T15:54:57.826722Z"
    }
   },
   "source": [
    "# текст запроса\n",
    "query_6_3 = f'''\n",
    "select count(*)\n",
    "from vacancies\n",
    "where (name ILIKE '%data scientist%'\n",
    "    OR name ILIKE '%data science%'\n",
    "    OR name ILIKE '%исследователь данных%'\n",
    "    OR name ILIKE '%ML%' AND name NOT ILIKE '%HTML%'\n",
    "    OR name ILIKE '%machine learning%'\n",
    "    OR name ILIKE '%машинн%обучен%')\n",
    "  and (key_skills ilike '%SQL%' or key_skills ilike '%postgres%');\n",
    "'''"
   ],
   "outputs": [],
   "execution_count": 133
  },
  {
   "cell_type": "code",
   "source": [
    "# результат запроса\n",
    "connection = engine.raw_connection()\n",
    "df = pd.read_sql_query(query_6_3, connection)\n",
    "connection.close()\n",
    "print('Вакансии для DS, в которых в качестве ключевого навыка указан SQL или postgres:', df['count'].values[0])"
   ],
   "metadata": {
    "id": "alA8WEAAvGdf",
    "ExecuteTime": {
     "end_time": "2025-02-04T15:54:59.945272Z",
     "start_time": "2025-02-04T15:54:59.314551Z"
    }
   },
   "id": "alA8WEAAvGdf",
   "outputs": [
    {
     "name": "stderr",
     "output_type": "stream",
     "text": [
      "/var/folders/6k/1096gq_54_dgk0_cjz4762g40000gn/T/ipykernel_54159/346592134.py:3: UserWarning: pandas only supports SQLAlchemy connectable (engine/connection) or database string URI or sqlite3 DBAPI2 connection. Other DBAPI2 objects are not tested. Please consider using SQLAlchemy.\n",
      "  df = pd.read_sql_query(query_6_3, connection)\n"
     ]
    },
    {
     "name": "stdout",
     "output_type": "stream",
     "text": [
      "Вакансии для DS, в которых в качестве ключевого навыка указан SQL или postgres: 229\n"
     ]
    }
   ],
   "execution_count": 134
  },
  {
   "cell_type": "markdown",
   "id": "1be1e9c6-37cf-4a5f-bfeb-04cab799dc80",
   "metadata": {
    "id": "1be1e9c6-37cf-4a5f-bfeb-04cab799dc80"
   },
   "source": [
    "4. Проверьте, насколько популярен Python в требованиях работодателей к DS.Для этого вычислите количество вакансий, в которых в качестве ключевого навыка указан Python.\n",
    "\n",
    "** Это можно сделать помощью запроса, аналогичного предыдущему.*"
   ]
  },
  {
   "cell_type": "code",
   "id": "0036a355-9ccf-4564-8b01-73d8194297e7",
   "metadata": {
    "id": "0036a355-9ccf-4564-8b01-73d8194297e7",
    "ExecuteTime": {
     "end_time": "2025-02-04T15:55:15.450117Z",
     "start_time": "2025-02-04T15:55:15.448140Z"
    }
   },
   "source": [
    "# текст запроса\n",
    "query_6_4 = f'''\n",
    "select count(*)\n",
    "from vacancies\n",
    "where (name ILIKE '%data scientist%'\n",
    "    OR name ILIKE '%data science%'\n",
    "    OR name ILIKE '%исследователь данных%'\n",
    "    OR name ILIKE '%ML%' AND name NOT ILIKE '%HTML%'\n",
    "    OR name ILIKE '%machine learning%'\n",
    "    OR name ILIKE '%машинн%обучен%')\n",
    "  and key_skills ilike '%Python%';\n",
    "'''"
   ],
   "outputs": [],
   "execution_count": 135
  },
  {
   "cell_type": "code",
   "source": [
    "# результат запроса\n",
    "connection = engine.raw_connection()\n",
    "df = pd.read_sql_query(query_6_4, connection)\n",
    "connection.close()\n",
    "print('Количество вакансий, в которых в качестве ключевого навыка указан Python:', df['count'].values[0])"
   ],
   "metadata": {
    "id": "1i-5WyucvQ6v",
    "ExecuteTime": {
     "end_time": "2025-02-04T15:55:19.387749Z",
     "start_time": "2025-02-04T15:55:18.770863Z"
    }
   },
   "id": "1i-5WyucvQ6v",
   "outputs": [
    {
     "name": "stderr",
     "output_type": "stream",
     "text": [
      "/var/folders/6k/1096gq_54_dgk0_cjz4762g40000gn/T/ipykernel_54159/4276501372.py:3: UserWarning: pandas only supports SQLAlchemy connectable (engine/connection) or database string URI or sqlite3 DBAPI2 connection. Other DBAPI2 objects are not tested. Please consider using SQLAlchemy.\n",
      "  df = pd.read_sql_query(query_6_4, connection)\n"
     ]
    },
    {
     "name": "stdout",
     "output_type": "stream",
     "text": [
      "Количество вакансий, в которых в качестве ключевого навыка указан Python: 357\n"
     ]
    }
   ],
   "execution_count": 136
  },
  {
   "cell_type": "markdown",
   "id": "ec3c8db7-fa21-4a41-a994-1af63742a642",
   "metadata": {
    "id": "ec3c8db7-fa21-4a41-a994-1af63742a642"
   },
   "source": [
    "5. Сколько ключевых навыков в среднем указывают в вакансиях для DS?\n",
    "Ответ округлите до двух знаков после точки-разделителя."
   ]
  },
  {
   "cell_type": "code",
   "id": "949132bc-d5b6-4611-8218-0b9a504d74f4",
   "metadata": {
    "id": "949132bc-d5b6-4611-8218-0b9a504d74f4",
    "ExecuteTime": {
     "end_time": "2025-02-04T15:45:57.988479Z",
     "start_time": "2025-02-04T15:45:57.986329Z"
    }
   },
   "source": [
    "# текст запроса\n",
    "query_6_5 = f'''\n",
    "select\n",
    "round(avg(length(key_skills) - length(replace(key_skills,CHR(9),''))+1),2)\n",
    "\n",
    "from vacancies v\n",
    "\n",
    "WHERE\n",
    "    {ds_filter}\n",
    "    AND (key_skills IS NOT NULL)\n",
    "'''"
   ],
   "outputs": [],
   "execution_count": 131
  },
  {
   "cell_type": "code",
   "source": [
    "# результат запроса\n",
    "connection = engine.raw_connection()\n",
    "df = pd.read_sql_query(query_6_5, connection)\n",
    "connection.close()\n",
    "print('Количество ключевых навыков в среднем указанных в вакансиях для DS:', df['round'].values[0])"
   ],
   "metadata": {
    "id": "a3V24Tvmviqk",
    "ExecuteTime": {
     "end_time": "2025-02-04T15:46:02.043364Z",
     "start_time": "2025-02-04T15:46:01.272726Z"
    }
   },
   "id": "a3V24Tvmviqk",
   "outputs": [
    {
     "name": "stderr",
     "output_type": "stream",
     "text": [
      "/var/folders/6k/1096gq_54_dgk0_cjz4762g40000gn/T/ipykernel_54159/2078762431.py:3: UserWarning: pandas only supports SQLAlchemy connectable (engine/connection) or database string URI or sqlite3 DBAPI2 connection. Other DBAPI2 objects are not tested. Please consider using SQLAlchemy.\n",
      "  df = pd.read_sql_query(query_6_5, connection)\n"
     ]
    },
    {
     "name": "stdout",
     "output_type": "stream",
     "text": [
      "Количество ключевых навыков в среднем указанных в вакансиях для DS: 6.41\n"
     ]
    }
   ],
   "execution_count": 132
  },
  {
   "cell_type": "markdown",
   "id": "1041c17a-ca8f-4543-a0ca-32778914fb00",
   "metadata": {
    "id": "1041c17a-ca8f-4543-a0ca-32778914fb00"
   },
   "source": [
    "6. Напишите запрос, позволяющий вычислить, какую зарплату для DS в **среднем** указывают для каждого типа требуемого опыта (уникальное значение из поля *experience*). \n",
    "\n",
    "При решении задачи примите во внимание следующее:\n",
    "1. Рассматриваем только вакансии, у которых заполнено хотя бы одно из двух полей с зарплатой.\n",
    "2. Если заполнены оба поля с зарплатой, то считаем зарплату по каждой вакансии как сумму двух полей, делённую на 2. Если заполнено только одно из полей, то его и считаем зарплатой по вакансии.\n",
    "3. Если в расчётах участвует null, в результате он тоже даст null (посмотрите, что возвращает запрос select 1 + null). Чтобы избежать этой ситуацию, мы воспользуемся функцией [coalesce](https://postgrespro.ru/docs/postgresql/9.5/functions-conditional#functions-coalesce-nvl-ifnull), которая заменит null на значение, которое мы передадим. Например, посмотрите, что возвращает запрос `select 1 + coalesce(null, 0)`\n",
    "\n",
    "Выясните, на какую зарплату в среднем может рассчитывать дата-сайентист с опытом работы от 3 до 6 лет. Результат округлите до целого числа. "
   ]
  },
  {
   "cell_type": "code",
   "id": "6a743d39-5204-48d3-8271-b9f88e68d40e",
   "metadata": {
    "id": "6a743d39-5204-48d3-8271-b9f88e68d40e",
    "ExecuteTime": {
     "end_time": "2025-02-04T15:56:50.723874Z",
     "start_time": "2025-02-04T15:56:50.721797Z"
    }
   },
   "source": [
    "# текст запроса\n",
    "query_6_6 = f'''\n",
    "select experience, round(avg((coalesce(salary_to, salary_from) + coalesce(salary_from, salary_to)) / 2))\n",
    "from vacancies\n",
    "where {ds_filter}\n",
    "  and (salary_to is not null\n",
    "    or salary_from is not null)\n",
    "group by experience;\n",
    "'''"
   ],
   "outputs": [],
   "execution_count": 139
  },
  {
   "cell_type": "code",
   "source": [
    "# результат запроса\n",
    "connection = engine.raw_connection()\n",
    "df = pd.read_sql_query(query_6_6, connection)\n",
    "connection.close()\n",
    "print('Зарплата в среднем на которую может рассчитывать дата-сайентист с опытом работы от 3 до 6 лет:', df['round'].values[2])"
   ],
   "metadata": {
    "id": "aRIJ0mZEwU1_",
    "ExecuteTime": {
     "end_time": "2025-02-04T15:57:22.605803Z",
     "start_time": "2025-02-04T15:57:21.953462Z"
    }
   },
   "id": "aRIJ0mZEwU1_",
   "outputs": [
    {
     "name": "stderr",
     "output_type": "stream",
     "text": [
      "/var/folders/6k/1096gq_54_dgk0_cjz4762g40000gn/T/ipykernel_54159/1675807443.py:3: UserWarning: pandas only supports SQLAlchemy connectable (engine/connection) or database string URI or sqlite3 DBAPI2 connection. Other DBAPI2 objects are not tested. Please consider using SQLAlchemy.\n",
      "  df = pd.read_sql_query(query_6_6, connection)\n"
     ]
    },
    {
     "name": "stdout",
     "output_type": "stream",
     "text": [
      "Зарплата в среднем на которую может рассчитывать дата-сайентист с опытом работы от 3 до 6 лет: 243115.0\n"
     ]
    }
   ],
   "execution_count": 142
  },
  {
   "cell_type": "markdown",
   "id": "6a7892b4-4113-4746-adce-18aa2844f18e",
   "metadata": {
    "id": "6a7892b4-4113-4746-adce-18aa2844f18e"
   },
   "source": [
    "***"
   ]
  },
  {
   "metadata": {},
   "cell_type": "markdown",
   "source": [
    "### Выводы по предметному анализу\n",
    "- Вакансий, связанных с данными, много — подтверждается высокий спрос на специалистов в области Data Science.\n",
    "- Для начинающих специалистов меньше вакансий, что указывает на упор рынка на опытных кандидатов.\n",
    "- Наиболее востребованные навыки: **Python** и **SQL/Postgres**.\n",
    "- В среднем в вакансиях указывается около 6 ключевых навыков.\n",
    "- Дата-сайентисты с опытом 3-6 лет получают высокую среднюю зарплату, что показывает ценность специалистов этого уровня."
   ],
   "id": "6b4c1f70c0302c18"
  },
  {
   "cell_type": "markdown",
   "source": [
    "### Общий вывод по проекту\n",
    "В ходе исследования базы вакансий HeadHunter было выявлено следующее:\n",
    "1. **Данные о вакансиях:**\n",
    "    - В базе представлено большое количество вакансий, распределенных по регионам и сферам деятельности, что отражает разнообразие рынка труда.\n",
    "    - Вакансии сосредоточены преимущественно в крупных экономических центрах.\n",
    "\n",
    "2. **Анализ работодателей:**\n",
    "    - Лидирующую роль на рынке занимают крупные IT-компании.\n",
    "    - Разработка программного обеспечения — одна из наиболее востребованных сфер деятельности.\n",
    "    - Некоторые регионы демонстрируют дисбаланс: много работодателей без актуальных вакансий.\n",
    "\n",
    "3. **Предметный анализ Data Science:**\n",
    "    - На рынке труда высокая востребованность специалистов, связанных с обработкой данных и Data Science.\n",
    "    - Востребованные навыки: **Python**, **SQL/Postgres**, знания в области машинного обучения.\n",
    "    - Для начинающих специалистов рынок предлагает ограниченное количество вакансий, делая акцент на опыте.\n",
    "    - Средний уровень зарплат для DS-специалистов с опытом работы от 3 до 6 лет подтверждает ценность таких специалистов на рынке.\n"
   ],
   "metadata": {
    "id": "c0ED6fh7wiBT"
   },
   "id": "c0ED6fh7wiBT"
  },
  {
   "metadata": {},
   "cell_type": "markdown",
   "source": [
    "### **Региональное сравнение**\n",
    "- **Цель:** Понять, как регион влияет на количество вакансий, зарплаты и востребованные навыки.\n",
    "- **Исследования:**\n",
    "    - Уровень доступности вакансий для начинающих специалистов в разных регионах.\n",
    "- **Прогноз:** Выявить перспективные регионы для развития карьер junior специалистов.\n"
   ],
   "id": "584cb4c55e25f61"
  },
  {
   "metadata": {
    "ExecuteTime": {
     "end_time": "2025-02-04T17:28:45.959271Z",
     "start_time": "2025-02-04T17:28:45.957400Z"
    }
   },
   "cell_type": "code",
   "source": [
    "query_7 = '''SELECT\n",
    "    a.name AS region,\n",
    "    COUNT(v.id) AS junior_vacancies_count,\n",
    "    ROUND((COUNT(v.id)::DECIMAL / total_vacancies) * 100, 2) AS junior_vacancy_percentage\n",
    "FROM areas a\n",
    "         JOIN vacancies v ON a.id = v.area_id\n",
    "         LEFT JOIN (\n",
    "    SELECT area_id, COUNT(id) AS total_vacancies\n",
    "    FROM vacancies\n",
    "    GROUP BY area_id\n",
    ") tv ON a.id = tv.area_id\n",
    "WHERE (LOWER(v.name) LIKE '%junior%' OR v.experience = 'Нет опыта' OR LOWER(v.employment) LIKE '%стажировка%')\n",
    "GROUP BY a.name, total_vacancies\n",
    "ORDER BY junior_vacancy_percentage DESC;\n",
    "'''"
   ],
   "id": "fc6c64b1e381e335",
   "outputs": [],
   "execution_count": 147
  },
  {
   "metadata": {
    "ExecuteTime": {
     "end_time": "2025-02-04T17:29:06.376674Z",
     "start_time": "2025-02-04T17:29:04.609975Z"
    }
   },
   "cell_type": "code",
   "source": [
    "connection = engine.raw_connection()\n",
    "df = pd.read_sql_query(query_7, connection)\n",
    "connection.close()\n",
    "print(df)"
   ],
   "id": "a256f136acfbd851",
   "outputs": [
    {
     "name": "stderr",
     "output_type": "stream",
     "text": [
      "/var/folders/6k/1096gq_54_dgk0_cjz4762g40000gn/T/ipykernel_54159/4060149311.py:2: UserWarning: pandas only supports SQLAlchemy connectable (engine/connection) or database string URI or sqlite3 DBAPI2 connection. Other DBAPI2 objects are not tested. Please consider using SQLAlchemy.\n",
      "  df = pd.read_sql_query(query_7_1, connection)\n"
     ]
    },
    {
     "name": "stdout",
     "output_type": "stream",
     "text": [
      "         region  junior_vacancies_count  junior_vacancy_percentage\n",
      "0    Рассказово                       1                     100.00\n",
      "1         Кашин                       3                     100.00\n",
      "2     Кировград                       1                     100.00\n",
      "3      Осташков                       1                     100.00\n",
      "4      Хотьково                       1                     100.00\n",
      "..          ...                     ...                        ...\n",
      "458      Польша                       2                       3.77\n",
      "459      Батуми                       3                       3.61\n",
      "460     Армения                       8                       3.59\n",
      "461        Баку                       3                       3.30\n",
      "462   Иннополис                       1                       1.10\n",
      "\n",
      "[463 rows x 3 columns]\n"
     ]
    }
   ],
   "execution_count": 149
  },
  {
   "metadata": {},
   "cell_type": "markdown",
   "source": "**Результат анализа:** Этот запрос позволяет увидеть, где начинающим специалистам проще найти подходящие вакансии, и оценить регионы с лучшими условиями для старта карьеры.\n",
   "id": "b0f3ff582fc772a0"
  }
 ],
 "metadata": {
  "kernelspec": {
   "display_name": "Python 3 (ipykernel)",
   "language": "python",
   "name": "python3"
  },
  "language_info": {
   "codemirror_mode": {
    "name": "ipython",
    "version": 3
   },
   "file_extension": ".py",
   "mimetype": "text/x-python",
   "name": "python",
   "nbconvert_exporter": "python",
   "pygments_lexer": "ipython3",
   "version": "3.9.7"
  },
  "colab": {
   "provenance": [],
   "collapsed_sections": [
    "8d62a9f3-f64e-4fe7-bdac-c4dffa16155e"
   ]
  }
 },
 "nbformat": 4,
 "nbformat_minor": 5
}
